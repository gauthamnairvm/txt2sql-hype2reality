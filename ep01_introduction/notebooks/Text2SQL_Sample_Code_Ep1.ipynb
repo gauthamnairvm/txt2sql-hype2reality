{
  "nbformat": 4,
  "nbformat_minor": 0,
  "metadata": {
    "colab": {
      "provenance": [],
      "gpuType": "T4"
    },
    "kernelspec": {
      "name": "python3",
      "display_name": "Python 3"
    },
    "language_info": {
      "name": "python"
    },
    "accelerator": "GPU"
  },
  "cells": [
    {
      "cell_type": "code",
      "execution_count": null,
      "metadata": {
        "id": "kF4AbuYm0yg5"
      },
      "outputs": [],
      "source": [
        "!pip install transformers"
      ]
    },
    {
      "cell_type": "markdown",
      "source": [
        "# 📓 WikiSQL example\n",
        "\n",
        "**Reference:** [Hugging Face](https://huggingface.co/mrm8488/t5-base-finetuned-wikiSQL)\n",
        "\n",
        "**Source**: Hugging Face\n",
        "\n",
        "**Author**: [Manuel Romero](https://huggingface.co/mrm8488)"
      ],
      "metadata": {
        "id": "7CWX1Ddlue9j"
      }
    },
    {
      "cell_type": "code",
      "source": [
        "from transformers import AutoModelWithLMHead, AutoTokenizer\n",
        "\n",
        "tokenizer = AutoTokenizer.from_pretrained(\"mrm8488/t5-base-finetuned-wikiSQL\")\n",
        "model = AutoModelWithLMHead.from_pretrained(\"mrm8488/t5-base-finetuned-wikiSQL\")\n"
      ],
      "metadata": {
        "id": "Ia4AGYAr03Nx",
        "collapsed": true
      },
      "execution_count": null,
      "outputs": []
    },
    {
      "cell_type": "code",
      "source": [
        "def get_sql(query, schema):\n",
        "  input_text = f\"translate English to SQL: {query}</s> Schema: {schema}</s>\"\n",
        "  features = tokenizer([input_text], return_tensors='pt')\n",
        "\n",
        "  output = model.generate(input_ids=features['input_ids'],\n",
        "               attention_mask=features['attention_mask'], max_length=512)\n",
        "\n",
        "  return tokenizer.decode(output[0])"
      ],
      "metadata": {
        "id": "skh-PiiFee4z"
      },
      "execution_count": 11,
      "outputs": []
    },
    {
      "cell_type": "code",
      "source": [
        "query = \"What is the average experience in Months for a Bachelor's degree holder?\"\n",
        "schema = \"employees: emp_id, education, joining_year, city, payment_tier, age,gender, ever_benched, experience_current_domain, leave_info\"\n",
        "get_sql(query, schema)\n"
      ],
      "metadata": {
        "id": "l4ZxhwNA1dA9",
        "collapsed": true
      },
      "execution_count": null,
      "outputs": []
    },
    {
      "cell_type": "markdown",
      "source": [
        "# 🕷 Spider Example\n",
        "\n",
        "**Reference:** [Hugging Face](https://huggingface.co/gaussalgo/T5-LM-Large-text2sql-spider)\n",
        "\n",
        "**Source**: Hugging Face\n",
        "\n",
        "**Author**: [Gauss Algorithmic](https://huggingface.co/gaussalgo)"
      ],
      "metadata": {
        "id": "tfRp1Au3vFi-"
      }
    },
    {
      "cell_type": "code",
      "source": [
        "from transformers import AutoModelForSeq2SeqLM, AutoTokenizer\n",
        "\n",
        "model_path = 'gaussalgo/T5-LM-Large-text2sql-spider'\n",
        "model = AutoModelForSeq2SeqLM.from_pretrained(model_path)\n",
        "tokenizer = AutoTokenizer.from_pretrained(model_path)"
      ],
      "metadata": {
        "id": "hdt_l41y2G_Y"
      },
      "execution_count": null,
      "outputs": []
    },
    {
      "cell_type": "code",
      "source": [
        "def get_query_spyder(question, schema):\n",
        "  input_text = \" \".join([\"Question: \",question, \"Schema:\", schema])\n",
        "\n",
        "  model_inputs = tokenizer(input_text, return_tensors=\"pt\")\n",
        "  outputs = model.generate(**model_inputs, max_length=1024)\n",
        "\n",
        "  output_text = tokenizer.batch_decode(outputs, skip_special_tokens=True)\n",
        "  return output_text"
      ],
      "metadata": {
        "id": "FL2Nua6rioM6"
      },
      "execution_count": 15,
      "outputs": []
    },
    {
      "cell_type": "code",
      "source": [
        "question = \"What is the total number of employees who joined in the year 2013 at location Bangalore?\"\n",
        "schema = \"\"\"\n",
        "    employees \"employee_id\" INT, \"education\" VARCHAR(255), \"joining_year\" INT, \"city\" VARCHAR(255), \"Experience_in_current_domain\" INT, \"payment_tier\" INT, \"Gender\" VARCHAR(255), \"Age\" INT, \"Ever_Benched\" ENUM('Yes', 'No'), \"Leave_info\" Boolean primary key: \"employee_id\";\n",
        "\"\"\"\n",
        "\n",
        "print(get_query_spyder(question, schema))"
      ],
      "metadata": {
        "id": "13vQXFPx3zHc"
      },
      "execution_count": null,
      "outputs": []
    },
    {
      "cell_type": "code",
      "source": [
        "question = \"What is number of employees at each location and each year?\"\n",
        "schema = \"\"\"\n",
        "    employees \"employee_id\" INT, \"education\" VARCHAR(255), \"joining_year\" INT, \"city\" VARCHAR(255), \"Experience_in_current_domain\" INT, \"payment_tier\" INT, \"Gender\" VARCHAR(255), \"Age\" INT, \"Ever_Benched\" ENUM('Yes', 'No'), \"Leave_info\" Boolean primary key: \"employee_id\";\n",
        "\"\"\"\n",
        "\n",
        "print(get_query_spyder(question, schema))"
      ],
      "metadata": {
        "id": "heiQtS-VSKjb"
      },
      "execution_count": null,
      "outputs": []
    },
    {
      "cell_type": "code",
      "source": [
        "question = \"What is average experience in months for a Bachelors degree holder?\"\n",
        "schema = \"\"\"\n",
        "    employees \"employee_id\" INT, \"education\" VARCHAR(255), \"joining_year\" INT, \"city\" VARCHAR(255), \"Experience_in_current_domain\" INT, \"payment_tier\" INT, \"Gender\" VARCHAR(255), \"Age\" INT, \"Ever_Benched\" ENUM('Yes', 'No'), \"Leave_info\" Boolean primary key: \"employee_id\";\n",
        "\"\"\"\n",
        "\n",
        "print(get_query_spyder(question, schema))"
      ],
      "metadata": {
        "id": "aYgPTtCDx9Wm"
      },
      "execution_count": null,
      "outputs": []
    },
    {
      "cell_type": "markdown",
      "source": [
        "## 🖊\n",
        "\n",
        "### Schema Aware query results with accurate syntax. Models trained on Spider dataset can work well for simple day to day querying tasks."
      ],
      "metadata": {
        "id": "_tJY3l44zavZ"
      }
    }
  ]
}